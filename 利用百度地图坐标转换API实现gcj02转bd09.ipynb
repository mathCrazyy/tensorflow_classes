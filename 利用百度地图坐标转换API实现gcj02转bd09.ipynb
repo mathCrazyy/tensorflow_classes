{
 "cells": [
  {
   "cell_type": "markdown",
   "metadata": {},
   "source": [
    "# 利用百度地图坐标转换API实现gcj02转bd09\n",
    "\n",
    "## 百度地图坐标转换API\n",
    "### 功能\n",
    "将常用的非百度坐标转换成百度地图中使用的坐标，如：GPS设备获取的坐标、google地图坐标、soso地图坐标、amap地图坐标、mapbar地图坐标等\n",
    "\n",
    "### 特点\n",
    "1. 以HTTP形式提供坐标转换服务\n",
    "2. 支持批量坐标转化，一次最多可转换100个坐标点。\n",
    "3. 转化后的坐标可以在百度地图JavaScript API、车联网API、静态图API、web服务API等产品中使用\n",
    "\n",
    "### 服务地址\n",
    "* http://api.map.baidu.com/geoconv/v1/?\n",
    "* 组成说明： \n",
    "\t* 域名：api.map.baidu.com \n",
    "\t* 服务名：geoconv \n",
    "    * 服务版本号：v1 \n",
    "\n",
    "### 服务参数说明\n",
    "\n",
    "\n",
    "### 返回值说明\n",
    "\n",
    "### 状态码说明\n",
    "\n",
    "### 示例\n",
    "http://api.map.baidu.com/geoconv/v1/?coords=114.21892734521,29.575429778924;114.21892734521,29.575429778924&ak=E4805d16520de693a3fe707cdc962045&output=json\n",
    "\n",
    "\n",
    "## 使用Python3.5编写脚本调用API实现坐标转换"
   ]
  },
  {
   "cell_type": "code",
   "execution_count": 14,
   "metadata": {
    "collapsed": false,
    "scrolled": true
   },
   "outputs": [
    {
     "name": "stdout",
     "output_type": "stream",
     "text": [
      "需要转换的gcj02经纬度数据如下：\n"
     ]
    },
    {
     "data": {
      "text/html": [
       "<div>\n",
       "<table border=\"1\" class=\"dataframe\">\n",
       "  <thead>\n",
       "    <tr style=\"text-align: right;\">\n",
       "      <th></th>\n",
       "      <th>lng_gcj02</th>\n",
       "      <th>lat_gcj02</th>\n",
       "    </tr>\n",
       "  </thead>\n",
       "  <tbody>\n",
       "    <tr>\n",
       "      <th>0</th>\n",
       "      <td>120.670870</td>\n",
       "      <td>28.017590</td>\n",
       "    </tr>\n",
       "    <tr>\n",
       "      <th>1</th>\n",
       "      <td>120.657803</td>\n",
       "      <td>28.010946</td>\n",
       "    </tr>\n",
       "    <tr>\n",
       "      <th>2</th>\n",
       "      <td>120.659898</td>\n",
       "      <td>28.035593</td>\n",
       "    </tr>\n",
       "    <tr>\n",
       "      <th>3</th>\n",
       "      <td>120.682615</td>\n",
       "      <td>27.994313</td>\n",
       "    </tr>\n",
       "  </tbody>\n",
       "</table>\n",
       "</div>"
      ],
      "text/plain": [
       "    lng_gcj02  lat_gcj02\n",
       "0  120.670870  28.017590\n",
       "1  120.657803  28.010946\n",
       "2  120.659898  28.035593\n",
       "3  120.682615  27.994313"
      ]
     },
     "execution_count": 14,
     "metadata": {},
     "output_type": "execute_result"
    }
   ],
   "source": [
    "import pandas as pd\n",
    "from urllib.request import urlopen\n",
    "import json\n",
    "\n",
    "# 需要转换的坐标\n",
    "datas = pd.DataFrame({'lng_gcj02':[120.67087,120.657803,120.659898,120.682615],\n",
    "                        'lat_gcj02':[28.01759,28.010946,28.035593,27.994313]},\n",
    "                     columns=['lng_gcj02','lat_gcj02'])\n",
    "print('需要转换的gcj02经纬度数据如下：')\n",
    "datas"
   ]
  },
  {
   "cell_type": "code",
   "execution_count": 16,
   "metadata": {
    "collapsed": false
   },
   "outputs": [
    {
     "name": "stdout",
     "output_type": "stream",
     "text": [
      "转换结果如下：\n"
     ]
    },
    {
     "data": {
      "text/html": [
       "<div>\n",
       "<table border=\"1\" class=\"dataframe\">\n",
       "  <thead>\n",
       "    <tr style=\"text-align: right;\">\n",
       "      <th></th>\n",
       "      <th>lng_gcj02</th>\n",
       "      <th>lat_gcj02</th>\n",
       "      <th>lng_bd09</th>\n",
       "      <th>lat_bd09</th>\n",
       "    </tr>\n",
       "  </thead>\n",
       "  <tbody>\n",
       "    <tr>\n",
       "      <th>0</th>\n",
       "      <td>120.670870</td>\n",
       "      <td>28.017590</td>\n",
       "      <td>120.681449</td>\n",
       "      <td>28.020004</td>\n",
       "    </tr>\n",
       "    <tr>\n",
       "      <th>1</th>\n",
       "      <td>120.657803</td>\n",
       "      <td>28.010946</td>\n",
       "      <td>120.668387</td>\n",
       "      <td>28.013235</td>\n",
       "    </tr>\n",
       "    <tr>\n",
       "      <th>2</th>\n",
       "      <td>120.659898</td>\n",
       "      <td>28.035593</td>\n",
       "      <td>120.670463</td>\n",
       "      <td>28.037881</td>\n",
       "    </tr>\n",
       "    <tr>\n",
       "      <th>3</th>\n",
       "      <td>120.682615</td>\n",
       "      <td>27.994313</td>\n",
       "      <td>120.693183</td>\n",
       "      <td>27.996945</td>\n",
       "    </tr>\n",
       "  </tbody>\n",
       "</table>\n",
       "</div>"
      ],
      "text/plain": [
       "    lng_gcj02  lat_gcj02    lng_bd09   lat_bd09\n",
       "0  120.670870  28.017590  120.681449  28.020004\n",
       "1  120.657803  28.010946  120.668387  28.013235\n",
       "2  120.659898  28.035593  120.670463  28.037881\n",
       "3  120.682615  27.994313  120.693183  27.996945"
      ]
     },
     "execution_count": 16,
     "metadata": {},
     "output_type": "execute_result"
    }
   ],
   "source": [
    "def gcj02_to_bd09(datas):\n",
    "    \n",
    "    # 在数据集中添加[lng_bd09 ,lat_bd09] 保存转换结果\n",
    "    datas['lng_bd09'] = 0 \n",
    "    datas['lat_bd09'] = 0\n",
    "    \n",
    "    for i in range(len(gcj02_lng_lat)):\n",
    "        coords = str(datas['lng_gcj02'][i])+','+str(datas['lat_gcj02'][i])\n",
    "        url = 'http://api.map.baidu.com/geoconv/v1/?coords='+coords+'&ak=9KtraRRDZT8xnAoVe3o41wGGgy4X3rMW'\n",
    "        try:    \n",
    "            with urlopen(url,timeout=3) as html:\n",
    "                http_info = html.info()\n",
    "                raw_data = html.read().decode(http_info.get_content_charset())\n",
    "            data = json.loads(raw_data)\n",
    "            datas.iloc[i,2] = data['result'][0]['x']\n",
    "            datas.iloc[i,3] = data['result'][0]['y']\n",
    "        except:\n",
    "            print('转换失败：'+coords)\n",
    "    return datas\n",
    "\n",
    "print('转换结果如下：')\n",
    "gcj02_to_bd09(datas)"
   ]
  }
 ],
 "metadata": {
  "kernelspec": {
   "display_name": "Python [Root]",
   "language": "python",
   "name": "Python [Root]"
  },
  "language_info": {
   "codemirror_mode": {
    "name": "ipython",
    "version": 3
   },
   "file_extension": ".py",
   "mimetype": "text/x-python",
   "name": "python",
   "nbconvert_exporter": "python",
   "pygments_lexer": "ipython3",
   "version": "3.5.2"
  }
 },
 "nbformat": 4,
 "nbformat_minor": 0
}
