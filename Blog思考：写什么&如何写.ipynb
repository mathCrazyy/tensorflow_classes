{
 "cells": [
  {
   "cell_type": "markdown",
   "metadata": {},
   "source": [
    "# Blog思考：写什么&如何写\n",
    "---\n"
   ]
  },
  {
   "cell_type": "markdown",
   "metadata": {},
   "source": [
    "## 写的目标\n",
    "---\n",
    "写Blog的目标分两类，一类是符合自身发展的系统化目标，称为【通标】；另一类是与Blog内容特性相关的目标，称为【自标】。\n",
    "\n",
    "---\n",
    "### 通标\n",
    "\n",
    "---\n",
    "### 自标\n",
    "\n"
   ]
  },
  {
   "cell_type": "markdown",
   "metadata": {},
   "source": [
    "## 持续发布与集成 -- 系统化写作\n",
    "---\n",
    "step 1. 确定一个系统化写作目标，在jupyter中分Cell书写\n",
    "\n",
    "step 2. 每一个Cell写完了就发布到简书，在明显的位置注明系统化写作目标\n"
   ]
  },
  {
   "cell_type": "code",
   "execution_count": null,
   "metadata": {
    "collapsed": true
   },
   "outputs": [],
   "source": []
  }
 ],
 "metadata": {
  "kernelspec": {
   "display_name": "Python 3",
   "language": "python",
   "name": "python3"
  },
  "language_info": {
   "codemirror_mode": {
    "name": "ipython",
    "version": 3
   },
   "file_extension": ".py",
   "mimetype": "text/x-python",
   "name": "python",
   "nbconvert_exporter": "python",
   "pygments_lexer": "ipython3",
   "version": "3.6.1"
  }
 },
 "nbformat": 4,
 "nbformat_minor": 2
}
