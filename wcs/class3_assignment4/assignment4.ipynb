{
 "cells": [
  {
   "cell_type": "markdown",
   "metadata": {},
   "source": [
    "# building deep neural network(step by step)"
   ]
  },
  {
   "cell_type": "markdown",
   "metadata": {},
   "source": [
    "this is image classification task  \n",
    "- in this part will use relu to improve our model.\n",
    "- build a deeper neural network (more than 1 hidden layer)\n",
    "- implement an easy-to-use neural network class\n"
   ]
  },
  {
   "cell_type": "code",
   "execution_count": 2,
   "metadata": {
    "collapsed": false
   },
   "outputs": [],
   "source": [
    "import numpy as np\n",
    "import h5py\n",
    "import matplotlib.pyplot as plt\n",
    "from testCases_v2 import *\n",
    "from dnn_utils_v2 import sigmoid, sigmoid_backward, relu, relu_backward\n",
    "\n",
    "%matplotlib inline\n",
    "plt.rcParams[\"figure.figsize\"]=(5.0,4.0)\n",
    "plt.rcParams[\"image.interpolation\"]='nearest'\n",
    "plt.rcParams['image.cmap']='gray'\n",
    "\n",
    "%load_ext autoreload\n",
    "%autoreload 2\n",
    "\n",
    "np.random.seed(1)\n"
   ]
  },
  {
   "cell_type": "markdown",
   "metadata": {
    "collapsed": true
   },
   "source": [
    "# 3-initialization"
   ]
  },
  {
   "cell_type": "markdown",
   "metadata": {},
   "source": [
    "- first function to initialization two layer model\n",
    "- generalize this initialization process to L layers.\n",
    "  \n",
    "  model's structure is LINEAR->RELU->LINEAR->SIGMOID"
   ]
  },
  {
   "cell_type": "code",
   "execution_count": 24,
   "metadata": {
    "collapsed": false
   },
   "outputs": [],
   "source": [
    "def initialize_parameters(n_x,n_h,n_y):\n",
    "    \"\"\"\n",
    "    Argument:\n",
    "    n_x -- size of the input layer\n",
    "    n_h -- size of the hidden layer\n",
    "    n_y -- size of the output layer\n",
    "    \n",
    "    returns:\n",
    "    parameters: -- python dictionary :\n",
    "       W1 -- weight matrix of shape(n_h,n_x)\n",
    "       b1 -- bias vector of shape(n_h,1)\n",
    "       W2 -- weight matrix of shape (n_y,n_h)\n",
    "       b2 -- bias vector of shape(n_y,1)\n",
    "    \"\"\"\n",
    "    #.....e ...\n",
    "    np.random.seed(1)\n",
    "    W1=np.random.randn(n_h,n_x)*0.01\n",
    "    b1=np.zeros((n_h,1))\n",
    "    W2=np.random.randn(n_y,n_h)*0.01\n",
    "    b2=np.zeros((n_y,1))\n",
    "    \n",
    "    #W1=np.array([n_h,n_x])\n",
    "    #b1=np.array([n_h,1])\n",
    "    #W2=np.array([n_y,n_h])\n",
    "    #b2=np.array([n_y,1])\n",
    "    \n",
    "    assert(W1.shape==(n_h,n_x))\n",
    "    assert(b1.shape==(n_h,1))\n",
    "    assert(W2.shape==(n_y,n_h))\n",
    "    assert(b2.shape==(n_y,1))\n",
    "    \n",
    "    parameters={\n",
    "        \"W1\":W1,\n",
    "        \"b1\":b1,\n",
    "        \"W2\":W2,\n",
    "        \"b2\":b2\n",
    "    }\n",
    "    return parameters"
   ]
  },
  {
   "cell_type": "code",
   "execution_count": 25,
   "metadata": {
    "collapsed": false
   },
   "outputs": [
    {
     "name": "stdout",
     "output_type": "stream",
     "text": [
      "W1=  [[ 0.01624345 -0.00611756]\n",
      " [-0.00528172 -0.01072969]]\n",
      "b1=  [[ 0.]\n",
      " [ 0.]]\n",
      "W2=  [[ 0.00865408 -0.02301539]]\n",
      "b2=  [[ 0.]]\n"
     ]
    }
   ],
   "source": [
    "parameters=initialize_parameters(2,2,1)\n",
    "print(\"W1= \",parameters[\"W1\"])\n",
    "print(\"b1= \",parameters[\"b1\"])\n",
    "print(\"W2= \",parameters[\"W2\"])\n",
    "print(\"b2= \",parameters[\"b2\"])"
   ]
  },
  {
   "cell_type": "markdown",
   "metadata": {
    "collapsed": true
   },
   "source": [
    "## 3.2 L-layer Neural Network"
   ]
  },
  {
   "cell_type": "code",
   "execution_count": null,
   "metadata": {
    "collapsed": true
   },
   "outputs": [],
   "source": []
  }
 ],
 "metadata": {
  "kernelspec": {
   "display_name": "Python 3",
   "language": "python",
   "name": "python3"
  },
  "language_info": {
   "codemirror_mode": {
    "name": "ipython",
    "version": 3
   },
   "file_extension": ".py",
   "mimetype": "text/x-python",
   "name": "python",
   "nbconvert_exporter": "python",
   "pygments_lexer": "ipython3",
   "version": "3.6.0"
  }
 },
 "nbformat": 4,
 "nbformat_minor": 2
}
