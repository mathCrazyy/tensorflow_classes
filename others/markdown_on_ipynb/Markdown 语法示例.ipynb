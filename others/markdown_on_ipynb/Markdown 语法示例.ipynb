{
 "cells": [
  {
   "cell_type": "markdown",
   "metadata": {},
   "source": [
    "# Markdown 语法示例\n",
    "---\n",
    "## 目录\n",
    "\n",
    "---\n"
   ]
  },
  {
   "cell_type": "markdown",
   "metadata": {},
   "source": [
    "---\n",
    "### 调整字体颜色\n",
    "<font color='green'>\n",
    "**What you need to remember**\n",
    "---\n"
   ]
  },
  {
   "cell_type": "markdown",
   "metadata": {},
   "source": [
    "---\n",
    "### 添加图片\n",
    "<img src=\"images\\k-means_1.png\" style=\"width:500px;height:100;\">"
   ]
  },
  {
   "cell_type": "markdown",
   "metadata": {},
   "source": [
    "### 添加表格\n",
    "---\n",
    "\n",
    "| 符号      |    含义 | \n",
    "| :--------: | :--------| \n",
    "| ![][f01]  | 截断距离 |\n",
    "| ![][f02]  | 点$i$与点$j$之间的距离|\n",
    "| ![][f03] |  局部密度 |\n",
    "| ![][f04] |  与其他具有更高局部密度点集的最小距离 |\n",
    "\n",
    "\n",
    "[f01]: http://latex.codecogs.com/svg.latex?d_{c}\n",
    "[f02]: http://latex.codecogs.com/svg.latex?d_{ij}\n",
    "[f03]: http://latex.codecogs.com/svg.latex?\\rho_{i}\n",
    "[f04]: http://latex.codecogs.com/svg.latex?\\delta_{i}"
   ]
  },
  {
   "cell_type": "markdown",
   "metadata": {},
   "source": [
    "## html表格\n",
    "---\n",
    "<table> \n",
    "<tr> <th>设备</th> <th>设备文件名</th> <th>文件描述符</th> <th>类型</th> </tr> \n",
    "<tr> <th>1</th> <th>/dev/stdin</th> <th>0</th> <th>标准输入</th> </tr> \n",
    "<tr> <th>2</th> <th>/dev/stdout</th> <th>1</th> <th>标准输出</th> </tr> \n",
    "<tr> <th>3</th> <th>/dev/stderr</th> <th>2</th> <th>标准错误输出</th> </tr> \n",
    "</table>"
   ]
  }
 ],
 "metadata": {
  "kernelspec": {
   "display_name": "Python 3",
   "language": "python",
   "name": "python3"
  },
  "language_info": {
   "codemirror_mode": {
    "name": "ipython",
    "version": 3
   },
   "file_extension": ".py",
   "mimetype": "text/x-python",
   "name": "python",
   "nbconvert_exporter": "python",
   "pygments_lexer": "ipython3",
   "version": "3.6.1"
  }
 },
 "nbformat": 4,
 "nbformat_minor": 2
}
