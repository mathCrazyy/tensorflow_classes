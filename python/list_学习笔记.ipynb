{
 "cells": [
  {
   "cell_type": "markdown",
   "metadata": {},
   "source": [
    "# Python 数据结构 —— list\n",
    "********\n",
    "## list数据结构要点\n",
    "1. list中的每个项目之间用逗号隔开；\n",
    "2. list是可以修改的数据结构，也就是说，数据的增加、删除、查找都是允许的；\n",
    "3. list对数据类型的容忍度很高，任何类型的数据都可以添加到同一个list中，但这将给数据处理带来麻烦，通常同一个list中存储统一类型的数据\n",
    "4. list支持切片操作，返回新的list\n",
    "   \n",
    "## 创建list\n",
    "1. 使用中括号[]定义，如 [],[a], [a, b, c]\n",
    "2. 从列表推导式得到 [x for x in iterable], iterable表示可迭代对象\n",
    "3. 使用list()函数， list() or list(iterable)"
   ]
  },
  {
   "cell_type": "code",
   "execution_count": 1,
   "metadata": {
    "collapsed": false
   },
   "outputs": [
    {
     "data": {
      "text/plain": [
       "([],\n",
       " ['a'],\n",
       " ['a', 'b', 'c'],\n",
       " [0, 1, 2, 3, 4, 5, 6, 7, 8, 9],\n",
       " [],\n",
       " [0, 1, 2, 3, 4, 5, 6, 7, 8, 9])"
      ]
     },
     "execution_count": 1,
     "metadata": {},
     "output_type": "execute_result"
    }
   ],
   "source": [
    "# 创建一个空的list\n",
    "ls1 = []; ls2 = ['a']; ls3 = ['a','b','c'] \n",
    "# 从列表推导式得到一个list\n",
    "iterable = range(10)\n",
    "ls4 = [x for x in iterable]\n",
    "# 使用list函数\n",
    "ls5 = list(); ls6 = list(range(10)) \n",
    "\n",
    "# 显示结果\n",
    "ls1, ls2, ls3, ls4, ls5, ls6"
   ]
  },
  {
   "cell_type": "markdown",
   "metadata": {},
   "source": [
    "## list中的切片操作\n",
    "    \n",
    "1. 正序切片\n",
    "    * ls[i] -- 返回第i+1个位置的元素\n",
    "    * ls[i:j] -- 返回第i+1到第j个位置的元素\n",
    "    * ls[i:j:s] -- 返回第i+1到第j个位置中间隔为s的元素\n",
    "\n",
    "2. 反序切片\n",
    "    * ls[-i] -- 返回第-i个位置的元素\n",
    "    * ls[-i:-j] -- -i所表示的位置必须在-j所表示的位置前面，否则返回空list\n",
    "    * ls[-i:-j:s] -- s必须是正整数\n",
    "\n",
    "3. 混合切片\n",
    "    * ls[-i:j] -- -i表示的位置必须在j所表示的位置前面，否则返回空list\n",
    "\n",
    "*注：尽可能使用正序切片，避免使用反序切片和混合切片，因为反序和混合的方法不方便理解，代码可读性低！*"
   ]
  },
  {
   "cell_type": "code",
   "execution_count": null,
   "metadata": {
    "collapsed": false
   },
   "outputs": [],
   "source": [
    "# 正序切片\n",
    "ls4[0]     # 0\n",
    "ls4[0:4]   # [0, 1, 2, 3]\n",
    "ls4[0:8:2] # [0, 2, 4, 6]\n",
    "\n",
    "# 反序切片\n",
    "ls4[-1]       # 9\n",
    "ls4[-4:-1]    # [6, 7, 8]\n",
    "ls4[-8:-1:2]  # [2, 4, 6, 8]\n",
    "\n",
    "# 混合切片\n",
    "ls4[-9:6]  # [1, 2, 3, 4, 5]"
   ]
  },
  {
   "cell_type": "markdown",
   "metadata": {},
   "source": [
    "## list中的增删改查\n",
    "**********\n",
    "### 增加数据\n",
    "1. ls.append(x) -- 将元素x增加到list尾部，每次只能增加一个项目\n",
    "2. ls.extend(iterable) -- 增加多个项目到list尾部\n",
    "3. ls.insert(i,x) -- 在位置i+1处插入新元素x"
   ]
  },
  {
   "cell_type": "code",
   "execution_count": null,
   "metadata": {
    "collapsed": false
   },
   "outputs": [],
   "source": [
    "# 将'a'增加到ls1尾部\n",
    "ls1.append('a')          # ['a']\n",
    "# 将[0,1,2]增加到ls3尾部\n",
    "ls3.extend(range(3))    # ['a', 'b', 'c', 0, 1, 2]\n",
    "# 在ls6的第4个位置插入10\n",
    "ls6.insert(3,10)       #  [0, 1, 2, 10, 3, 4, 5, 6, 7, 8, 9]"
   ]
  },
  {
   "cell_type": "markdown",
   "metadata": {},
   "source": [
    "### 删除数据\n",
    "1. ls.remove(x) -- 删除list中第一次出现的元素x\n",
    "2. del ls[i] -- 删除list中的第i+1个元素\n",
    "3. del ls[i:j] -- 按切片删除，即删除list中的第i+1到第j个元素\n",
    "4. ls.pop(i) -- 取出list中位置i+1的元素，并删除它"
   ]
  },
  {
   "cell_type": "code",
   "execution_count": null,
   "metadata": {
    "collapsed": false
   },
   "outputs": [],
   "source": [
    "ls3.remove('a')\n",
    "del ls3[2]\n",
    "del ls3[0:2]\n",
    "x = ls3.pop(2)  # 取出ls3中第3个元素，并赋给x"
   ]
  },
  {
   "cell_type": "markdown",
   "metadata": {},
   "source": [
    "### 修改数据\n",
    "* list中的元素可以修改，找到元素的索引，将该索引对应的值更新即可。\n"
   ]
  },
  {
   "cell_type": "code",
   "execution_count": null,
   "metadata": {
    "collapsed": false
   },
   "outputs": [],
   "source": [
    "ls1[0] = 'b'\n",
    "ls3[2:4] = ['b'] * 2   # 切片大小必须和新元素的大小一致\n",
    "ls1, ls3"
   ]
  },
  {
   "cell_type": "markdown",
   "metadata": {},
   "source": [
    "### 查找数据\n",
    "* ls.index(value,[start,[stop]]) -- 返回列表中指定元素所在的索引位置，可以通过start和stop参数设置搜索范围\n"
   ]
  },
  {
   "cell_type": "code",
   "execution_count": null,
   "metadata": {
    "collapsed": false
   },
   "outputs": [],
   "source": [
    "#　找出ls6中元素8第一次出现的位置\n",
    "ls6.index(8)\n",
    "\n",
    "# 在位置7到10之间查找元素8\n",
    "ls6.index(8,7,10)"
   ]
  },
  {
   "cell_type": "markdown",
   "metadata": {},
   "source": [
    "## list中的其他操作\n",
    "1. ls.sort() -- 将列表元素排序\n",
    "2. ls.reverse() -- 将序列元素反转\n",
    "3. ls.count(x) -- 返回元素x在列表中的数量\n",
    "4. ls1 + ls2 -- list中的加法运算，将ls1和ls2合并到同一个list中"
   ]
  },
  {
   "cell_type": "code",
   "execution_count": null,
   "metadata": {
    "collapsed": true
   },
   "outputs": [],
   "source": [
    "ls = [5,7,1,6,2,7,4,5,8]\n",
    "ls.sort()     # [1, 2, 4, 5, 5, 6, 7, 7, 8]\n",
    "ls.reverse()  # [8, 5, 4, 7, 2, 6, 1, 7, 5]\n",
    "ls.count(7)   # 2\n",
    "\n",
    "# list中的加法运算\n",
    "ls1 = ls[0:3]; ls2 = ls[3:6]\n",
    "ls3 = ls1 + ls2  # [5, 7, 1, 6, 2, 7]"
   ]
  },
  {
   "cell_type": "markdown",
   "metadata": {},
   "source": [
    "## 综合运用\n",
    "1. 找出某元素在list中出现的所有位置\n",
    "2. 找出两个list中的相同元素\n",
    "3. 将英文句子中的aeiou去除"
   ]
  },
  {
   "cell_type": "code",
   "execution_count": 2,
   "metadata": {
    "collapsed": false
   },
   "outputs": [
    {
     "data": {
      "text/plain": [
       "[0, 3, 16]"
      ]
     },
     "execution_count": 2,
     "metadata": {},
     "output_type": "execute_result"
    }
   ],
   "source": [
    "# 找出某元素在list中出现的所有位置\n",
    "ls = list('ajdajdlkfhgksjdkahgsdhk')\n",
    "find = 'a'\n",
    "[i for i,v in enumerate(ls) if v == find]"
   ]
  },
  {
   "cell_type": "code",
   "execution_count": 3,
   "metadata": {
    "collapsed": false
   },
   "outputs": [
    {
     "data": {
      "text/plain": [
       "[3, 4, 5, 6]"
      ]
     },
     "execution_count": 3,
     "metadata": {},
     "output_type": "execute_result"
    }
   ],
   "source": [
    "# 找出两个list中的相同元素\n",
    "ls1 = [1,2,3,4,5,6]\n",
    "ls2 = [3,4,5,6,7,8]\n",
    "[i for i in ls1 if i in ls2]"
   ]
  },
  {
   "cell_type": "code",
   "execution_count": 4,
   "metadata": {
    "collapsed": false
   },
   "outputs": [
    {
     "data": {
      "text/plain": [
       "'my nm s rshy jn!'"
      ]
     },
     "execution_count": 4,
     "metadata": {},
     "output_type": "execute_result"
    }
   ],
   "source": [
    "# 将英文句子中的aeiou去除\n",
    "sentence = 'My name is Aarshay Jain!'.lower()\n",
    "''.join([i for i in sentence if i not in 'aeiou'])"
   ]
  }
 ],
 "metadata": {
  "kernelspec": {
   "display_name": "Python [Root]",
   "language": "python",
   "name": "Python [Root]"
  },
  "language_info": {
   "codemirror_mode": {
    "name": "ipython",
    "version": 3
   },
   "file_extension": ".py",
   "mimetype": "text/x-python",
   "name": "python",
   "nbconvert_exporter": "python",
   "pygments_lexer": "ipython3",
   "version": "3.5.2"
  }
 },
 "nbformat": 4,
 "nbformat_minor": 0
}
