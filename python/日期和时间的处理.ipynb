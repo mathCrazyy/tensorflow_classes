{
 "cells": [
  {
   "cell_type": "markdown",
   "metadata": {},
   "source": [
    "# Pyhon中日期和时间数据的处理\n",
    "\n",
    "日期和时间是非常常见的数据类型，Python标准库中有多个模块可以用来处理这些数据，比如：[time](https://docs.python.org/3/library/time.html#module-time)、[calendar](https://docs.python.org/3/library/calendar.html#module-calendar)以及[datetime](https://docs.python.org/3/library/datetime.html)等。本文主要介绍datetime模块中datetime类的使用。\n",
    "\n",
    "## datetime模块简介\n",
    "\n",
    "datetime模块提供了多个用于操作日期和时间的类，并且支持datetime的加减法运算。该某块中含有两个常数，即datetime.MINYEAR = 1 和 datetime.MAXYEAR = 9999。根据官方文档的说法，时间和日期对象分为两类：“naive” 和 “aware”，按我的理解，其实就是 *带时区信息* 和 *不带时区信息* 的两类。这两类对象的官方说明如下：\n",
    "\n",
    ">An aware object has sufficient knowledge of applicable algorithmic and political time adjustments, such as time zone and daylight saving time information, to locate itself relative to other aware objects. An aware object is used to represent a specific moment in time that is not open to interpretation.\n",
    "\n",
    ">A naive object does not contain enough information to unambiguously locate itself relative to other date/time objects. Whether a naive object represents Coordinated Universal Time (UTC), local time, or time in some other timezone is purely up to the program, just like it is up to the program whether a particular number represents metres, miles, or mass. Naive objects are easy to understand and to work with, at the cost of ignoring some aspects of reality.\n",
    "\n",
    "datetime模块共有6类对象，如下：\n",
    "* datetime.date\n",
    "* datetime.time\n",
    "* datetime.datetime\n",
    "* datetime.timedelta\n",
    "* datetime.tzinfo\n",
    "* datetime.timezone\n",
    "\n",
    "下面，进入正题，介绍datetime.datetime对象的操作。"
   ]
  },
  {
   "cell_type": "markdown",
   "metadata": {},
   "source": [
    "## datetime.datetime 对象的操作\n",
    "\n",
    "datetime对象是由date对象和time对象合并得到的。因此，datetime对象同时包含了date对象和time对象中的假设，即：\n",
    "* 现行的公历可以向两个方向延伸\n",
    "* 每一天都是精确的3600\\*24秒\n",
    "\n",
    "\n",
    "Attributes: year, month, day, hour, minute, second, microsecond, and tzinf\n",
    "\n",
    "时间戳是指格林威治时间1970年01月01日00时00分00秒(北京时间1970年01月01日08时00分00秒)起至现在的总秒数。"
   ]
  },
  {
   "cell_type": "markdown",
   "metadata": {},
   "source": [
    "### 创建datetime对象"
   ]
  },
  {
   "cell_type": "code",
   "execution_count": 3,
   "metadata": {},
   "outputs": [
    {
     "data": {
      "text/plain": [
       "'2017-09-20 10:27:42.437635'"
      ]
     },
     "execution_count": 3,
     "metadata": {},
     "output_type": "execute_result"
    }
   ],
   "source": [
    "from datetime import datetime\n",
    "\n",
    "dt1 = datetime.today().isoformat(sep=' ')\n",
    "dt1"
   ]
  },
  {
   "cell_type": "markdown",
   "metadata": {},
   "source": [
    "### datetime对象与string表示的时间之间的相互转换\n",
    "\n",
    "在平常的工作中，我们接触到的时间数据大多数是用字符串表示的，绝大多数的表现形式为 '2017-03-05 13:01:43'。为了方便分析，通常需要先将这类字符串表示的数据转换成datetime对象或者timestamp对象，分析结束之后再转换成字符串保存分析结果。"
   ]
  },
  {
   "cell_type": "markdown",
   "metadata": {},
   "source": [
    "#### string表示的时间转换成datetime对象"
   ]
  },
  {
   "cell_type": "code",
   "execution_count": 4,
   "metadata": {},
   "outputs": [
    {
     "data": {
      "text/plain": [
       "datetime.datetime(2017, 3, 5, 13, 1, 43)"
      ]
     },
     "execution_count": 4,
     "metadata": {},
     "output_type": "execute_result"
    }
   ],
   "source": [
    "dt1 = '2017-03-05 13:01:43'\n",
    "\n",
    "# 使用 datetime.strptime()\n",
    "dt2 = datetime.strptime(dt1,'%Y-%m-%d %H:%M:%S')\n",
    "dt2  # 返回datetime.datetime(2017, 3, 5, 13, 1, 43)\n",
    "\n"
   ]
  }
 ],
 "metadata": {
  "kernelspec": {
   "display_name": "Python 3",
   "language": "python",
   "name": "python3"
  },
  "language_info": {
   "codemirror_mode": {
    "name": "ipython",
    "version": 3
   },
   "file_extension": ".py",
   "mimetype": "text/x-python",
   "name": "python",
   "nbconvert_exporter": "python",
   "pygments_lexer": "ipython3",
   "version": "3.6.1"
  }
 },
 "nbformat": 4,
 "nbformat_minor": 1
}
