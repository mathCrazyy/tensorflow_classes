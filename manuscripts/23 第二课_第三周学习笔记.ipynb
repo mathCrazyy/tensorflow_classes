{
 "cells": [
  {
   "cell_type": "markdown",
   "metadata": {},
   "source": [
    "# 023 course2 week3 学习笔记\n",
    "---\n",
    "\n",
    "超参优化\n",
    "\n",
    "1. Try random values:Don't use a grid\n",
    "2. \n",
    "\n",
    "使用对数标尺，而不是线性标尺。\n",
    "\n",
    "跨领域找灵感\n",
    "\n",
    "\n",
    "### 如何组织超参优化？\n",
    "---\n",
    "babysitting one model\n",
    "training many models in parallel\n",
    "\n",
    "\n",
    "### batch normarlization\n",
    "----\n",
    "每次只能处理一个mini-batch。\n"
   ]
  },
  {
   "cell_type": "markdown",
   "metadata": {},
   "source": [
    "## Softmax回归\n",
    "----\n",
    "LR的一般形式。\n",
    "\n",
    "\n",
    "最大似然估计\n",
    "\n"
   ]
  }
 ],
 "metadata": {
  "kernelspec": {
   "display_name": "Python 3",
   "language": "python",
   "name": "python3"
  },
  "language_info": {
   "codemirror_mode": {
    "name": "ipython",
    "version": 3
   },
   "file_extension": ".py",
   "mimetype": "text/x-python",
   "name": "python",
   "nbconvert_exporter": "python",
   "pygments_lexer": "ipython3",
   "version": "3.6.1"
  }
 },
 "nbformat": 4,
 "nbformat_minor": 2
}
