{
 "cells": [
  {
   "cell_type": "markdown",
   "metadata": {},
   "source": [
    "# course2 week1 笔记\n",
    "---\n",
    "* 如何配置训练集、验证集、测试集（train、dev、test sets）\n",
    "* 如何分析偏差和方差（bias and variance）\n",
    "* 如何处理高偏差、高方差以及两者共存的问题\n",
    "* 如何在神经网络中应用不同形式的正则化，比如L2正则化\n",
    "* 一些加速神经网络训练的方法，以及梯度检验。\n",
    "\n",
    "正则化 L1范数、L2范数\n",
    "Logistic Regression中的正则化\n",
    "神经网络中的正则化\n",
    "\n",
    "为什么正则化可有减少过拟合？\n",
    "> L2正则能够降低部分神经元的权重，从而事实上简化了网络。\n",
    "\n"
   ]
  },
  {
   "cell_type": "markdown",
   "metadata": {},
   "source": [
    "### dropout（随机失活）\n",
    "---\n",
    "随机选择一些神经元，删掉，得到简化的神经网络。\n",
    "\n",
    "不能依赖任何特征，因为任何特征都有可能被清除。\n",
    "\n",
    "在计算机视觉中常用，防止过拟合。\n"
   ]
  },
  {
   "cell_type": "markdown",
   "metadata": {},
   "source": [
    "### 其他正则化方法\n",
    "---\n",
    "数据增强（data augmentation）-- 图像旋转、缩减\n",
    "\n",
    "early stopping\n",
    "提前停止迭代，决策依据是训练集误差曲线和测试集误差曲线。"
   ]
  },
  {
   "cell_type": "markdown",
   "metadata": {},
   "source": [
    "### Normalizing Training Data\n",
    "---\n",
    "subtract mean\n",
    "normalize variou\n",
    "\n",
    "意义：让训练更快，不容易错过最优值。\n",
    "\n",
    "\n",
    "### Vanishing / Exploding Gradients 梯度消失，梯度爆炸\n",
    "---\n"
   ]
  },
  {
   "cell_type": "markdown",
   "metadata": {},
   "source": [
    "### Weight initialization for deep networks\n",
    "---\n",
    "\n",
    "### 梯度的数值逼近\n",
    "---\n",
    "\n",
    "### 梯度检验 Gradient Checking -- debug神经网络的有效方法\n",
    "---\n",
    "1、不要再训练过程中进行梯度检验，仅仅在debug过程中使用\n",
    "2、\n"
   ]
  },
  {
   "cell_type": "code",
   "execution_count": null,
   "metadata": {
    "collapsed": true
   },
   "outputs": [],
   "source": []
  }
 ],
 "metadata": {
  "kernelspec": {
   "display_name": "Python 3",
   "language": "python",
   "name": "python3"
  },
  "language_info": {
   "codemirror_mode": {
    "name": "ipython",
    "version": 3
   },
   "file_extension": ".py",
   "mimetype": "text/x-python",
   "name": "python",
   "nbconvert_exporter": "python",
   "pygments_lexer": "ipython3",
   "version": "3.6.1"
  }
 },
 "nbformat": 4,
 "nbformat_minor": 2
}
