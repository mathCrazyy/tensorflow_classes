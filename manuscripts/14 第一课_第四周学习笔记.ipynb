{
 "cells": [
  {
   "cell_type": "code",
   "execution_count": null,
   "metadata": {
    "collapsed": true
   },
   "outputs": [],
   "source": []
  },
  {
   "cell_type": "markdown",
   "metadata": {},
   "source": [
    "按照惯例，神经网络层数计算不考虑输入层，即层数=隐层数量+1, 1表示输出层。\n",
    "\n",
    "### 符号约定\n",
    "|符号|含义|\n",
    "|:---:|:---|\n",
    "|$L$|层数|\n",
    "|$n^{[l]}$|第l层的神经元数量|\n",
    "\n",
    "$Z^{[1]} = W^{[1]} * X + b^{[1]}$  \n",
    "各变量维度如下：\n",
    "* $Z^{[1]}: (n^{[1]}, m)$\n",
    "* $W^{[1]}: (n^{[1]}, n^{[0]})$\n",
    "* $X: (n^{[0]}, m)$\n",
    "* $b^{[1]}: (n^{[1]}, 1) or (n^{[1]}, m)$\n",
    "\n",
    "### debug技巧\n",
    "---\n",
    "1、检查变量维度\n",
    "\n",
    "第$l$层的变量维度：\n",
    "$$W^{[l]}: (n^{[l]}, n^{[l-1]})$$\n",
    "$$b^{[l]}: (n^{[l]}, 1)$$\n",
    "\n"
   ]
  },
  {
   "cell_type": "markdown",
   "metadata": {},
   "source": [
    "### 为什么用深度神经网络\n",
    "---\n",
    "feature detector、edge detector\n",
    "\n",
    "增加层数比增加神经元更有效。"
   ]
  },
  {
   "cell_type": "markdown",
   "metadata": {},
   "source": [
    "### HyperParameters\n",
    "---\n",
    "控制W和b参数的参数。\n",
    "\n",
    "learning rate\n",
    "iterations number\n",
    "hidden layer number\n",
    "hidden unity number\n",
    "choice of activation function\n",
    "\n",
    "\n",
    "mini batch size； momentor； \n",
    "如何选择超参？\n"
   ]
  }
 ],
 "metadata": {
  "kernelspec": {
   "display_name": "Python 3",
   "language": "python",
   "name": "python3"
  },
  "language_info": {
   "codemirror_mode": {
    "name": "ipython",
    "version": 3
   },
   "file_extension": ".py",
   "mimetype": "text/x-python",
   "name": "python",
   "nbconvert_exporter": "python",
   "pygments_lexer": "ipython3",
   "version": "3.6.1"
  }
 },
 "nbformat": 4,
 "nbformat_minor": 2
}
