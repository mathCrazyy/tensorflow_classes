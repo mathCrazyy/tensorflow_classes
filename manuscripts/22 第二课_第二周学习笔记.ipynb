{
 "cells": [
  {
   "cell_type": "markdown",
   "metadata": {},
   "source": [
    "# 022 学习笔记\n",
    "---\n",
    "\n",
    "## mini-batch gradient descent\n",
    "---\n",
    "mini-batch：从数据中选取的子集，如1000个样本。\n",
    "\n",
    "epoch：a single pass through the training set（一次遍历数据集）\n",
    "\n",
    "mini-batch的实现流程：\n",
    "1. 选择mini-batch大小，经验：2的n次方，从64到512不懂\n",
    "2. \n",
    "\n",
    "如果mini-batch大小为m（即所有样本），就是batch gradient descent\n",
    "如果mini-batch大小为1，就是SGD(s gradient descent）\n",
    "\n",
    "SGD永远不会收敛，而是在最小值附近波动。一大缺点：不能使用向量化加速计算\n",
    "\n",
    "mini-batch应该符合cpu和gpu的内存，对算法影响很大。\n"
   ]
  },
  {
   "cell_type": "markdown",
   "metadata": {},
   "source": [
    "## exponentially weighted averages （指数加权平均）\n",
    "---\n",
    "指数加权移动平均\n",
    "\n"
   ]
  },
  {
   "cell_type": "markdown",
   "metadata": {},
   "source": [
    "## bias correction（偏差修正）\n",
    "---\n"
   ]
  },
  {
   "cell_type": "markdown",
   "metadata": {},
   "source": [
    "## Gradient descent with momentum（动量梯度下降法）\n",
    "---\n",
    "\n",
    "总是比标准GD法快；\n",
    "基本思想：计算梯度的指数加权平均数，并应用这个梯度更新参数。使纵轴方向摆动更小，横轴方向移动更快。"
   ]
  },
  {
   "cell_type": "markdown",
   "metadata": {},
   "source": [
    "## RMSprop（root mean square prop）\n",
    "---\n",
    "参数更新公式改变了\n"
   ]
  },
  {
   "cell_type": "markdown",
   "metadata": {},
   "source": [
    "## Adam（Adaptive Moment Estimation）\n",
    "---\n",
    "将mometum和RMSprop融合在一起的一个方法\n",
    "\n",
    "\n"
   ]
  },
  {
   "cell_type": "markdown",
   "metadata": {},
   "source": [
    "## learning rate decay\n",
    "---\n",
    "在epoch层面逐步降低learning rate大小；\n"
   ]
  },
  {
   "cell_type": "markdown",
   "metadata": {},
   "source": [
    "## local optima\n",
    "---\n",
    "\n",
    "当训练一个参数非常多的、大的神经网络的时候，不太可能陷入局部最优。\n",
    "\n",
    "平稳端（Plateaus）会时学习时间增长。"
   ]
  }
 ],
 "metadata": {
  "kernelspec": {
   "display_name": "Python 3",
   "language": "python",
   "name": "python3"
  },
  "language_info": {
   "codemirror_mode": {
    "name": "ipython",
    "version": 3
   },
   "file_extension": ".py",
   "mimetype": "text/x-python",
   "name": "python",
   "nbconvert_exporter": "python",
   "pygments_lexer": "ipython3",
   "version": "3.6.1"
  }
 },
 "nbformat": 4,
 "nbformat_minor": 2
}
