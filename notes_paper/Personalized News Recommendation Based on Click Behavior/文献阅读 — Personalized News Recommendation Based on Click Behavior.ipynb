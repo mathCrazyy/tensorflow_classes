{
 "cells": [
  {
   "cell_type": "markdown",
   "metadata": {},
   "source": [
    "#  文献阅读 — Personalized News Recommendation Based on Click Behavior\n",
    "\n",
    "---\n",
    "\n",
    "文献：Personalized News Recommendation Based on Click Behavior\n",
    "\n",
    "作者：{Jiahui Liu, Peter Dolan, Elin Rønby Pedersen} @ GOOGLE\n",
    "\n",
    "地址：http://citeseerx.ist.psu.edu/viewdoc/download?doi=10.1.1.308.3087&rep=rep1&type=pdf\n",
    "\n",
    "http://www.jianshu.com/p/f3d147fbce3f\n",
    "\n",
    "---\n",
    "\n",
    "## 作者主要做了什么？\n",
    "---\n",
    "在这篇paper中，作者提出了一种针对大规模新闻推荐的信息过滤机制。首先，作者通过分析用户日志发现，用户的兴趣受其所在地区新闻趋势的影响。基于这个发现，作者将用户阅读新闻的兴趣分成两个部分：真实兴趣和受当地新闻趋势影响的兴趣。作者基于贝叶斯框架对用户的真实兴趣进行建模，使用用户的历史点击数据来预测她当前阅读新闻的兴趣，预测时会考虑当地的新闻趋势。将这个用户兴趣预测的方法用在新闻信息过滤（news information filtering）中，结合已有的协同过滤方法（collaborative filtering），就能生成个性化的新闻推荐信息。Google News的线上测试显示，新方法改善了推荐信息质量，提高了用户访问频次。\n",
    "\n",
    "\n",
    "\n",
    "\n",
    "\n",
    "做新闻推荐，现实中存在两个约束：1） 用户的兴趣可能会随着时间发生改变；2）不同用户之间的点击记录数量存在很大的差别。\n",
    "\n",
    "推荐系统领域主要有两种不同的技术：信息过滤（Information Filtering）和协同过滤（Collaborative Filtering）。信息过滤技术基于档案（profiles）来推荐内容，档案的构建可以通过分析用户历史数据来完成。协同过滤技术则基于同类用户的数据来推荐内容。\n",
    "\n",
    "在2009年之前，Google News的新闻推荐系统是基于协同过滤（Collaborative Filtering）方法开发的。这种方法主要存在两个问题：\n",
    "\n",
    "1） 系统不会推荐没有被其他用户读过的新闻；\n",
    "2） 忽略了用户之间的差异性。\n",
    "\n",
    "解决这两个问题的一种可行的方法是构建用户的真实兴趣档案（profiles of user's genuine interests），基于此档案进行新闻推荐。用户的兴趣档案可以有效的帮助系统过滤掉用户不感兴趣的内容，此外，与用户兴趣相匹配的新内容也有可能推荐给用户。\n",
    "\n",
    "\n",
    "\n",
    "\n",
    "\n",
    "这篇paper中，作者基于用户在新闻站点的点击行为推测用户的兴趣。\n",
    "对于用户建模（user modeling）而言，如何计算用户兴趣随时间的变化是一个非常重要的问题。\n",
    "\n",
    "用户阅读新闻的兴趣分长短期。短期兴趣通常是热门新闻时间，随时间变化很快；长期兴趣则可以反映用户的真实兴趣。\n",
    "\n",
    "作者提出的新方法可以捕捉用户兴趣在大环境中的动态变化。\n",
    "\n",
    "\n",
    "在2010年前后，Google News使用这篇paper中提出的新信息过滤方法与协同过滤方法结合体进行新闻个性化推荐。\n",
    "\n",
    "个性化推荐系统的基本假设是：用户的兴趣具有合理性和一致性。\n",
    "\n",
    "用户访问新闻网站往往希望看到一些有趣的事情，并且，用户的兴趣会受到大新闻事件的影响。\n",
    "\n",
    "\n",
    "为了深入理解用户兴趣随时间发生变化的规律，作者对Google News中的大量点击行为日志进行了分析。日志数据来自不同国家和区域的16848位用户的点击历史记录，时间范围是2007/7/1 - 2008/6/30。在这个时间范围内，每个用户每个月至少有十次点击行为被记录下来。\n",
    "通过对这些日志进行分析，作者得到以下结论：\n",
    "\n",
    "1. 用户阅读新闻的兴趣确实会随着时间发生改变；\n",
    "2. “全体用户”的点击行为分布能够反映新闻趋势，并与重大新闻事件相符；\n",
    "3. 不同区域的新闻趋势不同；\n",
    "4. 在一定程度上，用户阅读新闻的兴趣与他所在的地区新闻趋势相符。\n",
    "\n",
    "\n",
    "\n",
    "\n",
    "在这篇paper中，作者提出了一个用于推荐系统的信息过滤（Information Filter）方法，该方法基于主题分类（topic categories）。\n",
    "Google News的系统会记录用户的页面点击事件和时间。每一个点击都可以认为是用户对该类别的一个投票。\n"
   ]
  },
  {
   "cell_type": "markdown",
   "metadata": {},
   "source": [
    "## 贝叶斯方法理解\n",
    "---\n",
    "\n",
    "\n"
   ]
  },
  {
   "cell_type": "code",
   "execution_count": null,
   "metadata": {
    "collapsed": true
   },
   "outputs": [],
   "source": []
  },
  {
   "cell_type": "markdown",
   "metadata": {},
   "source": [
    "## 使用贝叶斯框架（Bayesian Framework）预测用户兴趣\n",
    "\n",
    "---\n",
    "\n",
    "基于用户自己的点击模式（click pattern）和她所在地区所有用户的点击模式，作者提出了一种使用贝叶斯框架对用户当前阅读新闻进行预测的算法。\n",
    "\n",
    "\n",
    "\n",
    "\n",
    "\n",
    "\n",
    "\n",
    "\n",
    "##  符号列表\n",
    "---\n",
    "| 符号          |    含义 | \n",
    "| :--------------:| :--------| \n",
    "| $D\\left ( u, t \\right )$ | 用户点击分布 |\n",
    "| $D\\left ( t \\right )$ | 点$i$与点$j$之间的距离|\n",
    "| $c_i$ |  局部密度 |\n",
    "|$p^{t}\\left(click | category=c_i \\right )$    |  与其他具有更高局部密度点集的最小距离 |\n",
    "|$p^{t}\\left(click  \\right )$||\n",
    "|||\n",
    "|||\n",
    "|||\n",
    "\n",
    "\n"
   ]
  },
  {
   "cell_type": "markdown",
   "metadata": {},
   "source": [
    "\n",
    "\n",
    "\n"
   ]
  },
  {
   "cell_type": "code",
   "execution_count": null,
   "metadata": {
    "collapsed": true
   },
   "outputs": [],
   "source": []
  },
  {
   "cell_type": "code",
   "execution_count": null,
   "metadata": {
    "collapsed": true
   },
   "outputs": [],
   "source": []
  }
 ],
 "metadata": {
  "kernelspec": {
   "display_name": "Python 3",
   "language": "python",
   "name": "python3"
  },
  "language_info": {
   "codemirror_mode": {
    "name": "ipython",
    "version": 3
   },
   "file_extension": ".py",
   "mimetype": "text/x-python",
   "name": "python",
   "nbconvert_exporter": "python",
   "pygments_lexer": "ipython3",
   "version": "3.6.1"
  }
 },
 "nbformat": 4,
 "nbformat_minor": 2
}
